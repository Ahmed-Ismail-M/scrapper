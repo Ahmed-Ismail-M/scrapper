{
 "cells": [
  {
   "cell_type": "markdown",
   "metadata": {},
   "source": [
    "# Python Technologist Application Test"
   ]
  },
  {
   "cell_type": "markdown",
   "metadata": {},
   "source": [
    "## Problem 1\n"
   ]
  },
  {
   "cell_type": "markdown",
   "metadata": {},
   "source": [
    "[This is](https://ar.wikipedia.org/wiki/%D9%82%D8%A7%D8%A6%D9%85%D8%A9_%D8%A3%D9%81%D8%B6%D9%84_%D9%85%D8%A6%D8%A9_%D8%B1%D9%88%D8%A7%D9%8A%D8%A9_%D8%B9%D8%B1%D8%A8%D9%8A%D8%A9) a Wikipedia webpage listing the 100 best Arabic novels according to the Arab Writers Union. In case it did not open for any reason try [this](https://www.marefa.org/%D9%82%D8%A7%D8%A6%D9%85%D8%A9_%D8%A3%D9%81%D8%B6%D9%84_%D8%A7%D9%84%D9%83%D8%AA%D8%A8_%D8%A7%D9%84%D8%B9%D8%B1%D8%A8%D9%8A%D8%A9) alternative link for the same info \n",
    "\n",
    "Using Python, do the following:\n",
    "\n",
    "1. Scrap the webapge to get the books table and write it to excel file, Keeping all the content from the HTML table including Hyper-links if any.\n",
    "2. Write the content to a Google sheet \n"
   ]
  },
  {
   "cell_type": "markdown",
   "metadata": {},
   "source": [
    "Write your code in the following cell. You are free to add cells as much as you need."
   ]
  },
  {
   "cell_type": "code",
   "execution_count": null,
   "metadata": {},
   "outputs": [],
   "source": []
  },
  {
   "cell_type": "markdown",
   "metadata": {},
   "source": [
    "## Problem 2 \n",
    "\n",
    "Create REST APIs in Python using Flask to read (Get) and write (Post, Delete, Put) the local excel file from the previous problem. Please make sure to bundle all the API dependencies to be uasble. Deploying the API to Heroku would be a big plus."
   ]
  },
  {
   "cell_type": "markdown",
   "metadata": {},
   "source": [
    "Write your code in the following cell. You are free to add cells as much as you need."
   ]
  },
  {
   "cell_type": "code",
   "execution_count": null,
   "metadata": {},
   "outputs": [],
   "source": []
  },
  {
   "cell_type": "markdown",
   "metadata": {},
   "source": [
    "## Problem 3\n",
    "\n",
    "Write a tool to create a PDF cover for the books, following the attached example \"book-cover-sample.pdf\". Considering the following:\n",
    "\n",
    "    1. The QR code should embed the book hyperlink from Wikipedia.\n",
    "    2. The QR code should be clickable to let the users acess it by clicking on it.\n",
    "    3. Include all the covers in one directory and compress it in ZIP format.\n",
    "    "
   ]
  },
  {
   "cell_type": "markdown",
   "metadata": {},
   "source": [
    "Write your code in the following cell. You are free to add cells as much as you need."
   ]
  },
  {
   "cell_type": "code",
   "execution_count": 2,
   "metadata": {},
   "outputs": [],
   "source": [
    "import openpyxl\n",
    "import requests\n",
    "from bs4 import BeautifulSoup\n",
    "URL = \"https://ar.wikipedia.org/wiki/%D9%82%D8%A7%D8%A6%D9%85%D8%A9_%D8%A3%D9%81%D8%B6%D9%84_%D9%85%D8%A6%D8%A9_%D8%B1%D9%88%D8%A7%D9%8A%D8%A9_%D8%B9%D8%B1%D8%A8%D9%8A%D8%A9\"\n",
    "PATH = 'test.xlsx'\n",
    "def write_to_excel(url:str, path:str):\n",
    "    res = requests.get(url=url).text\n",
    "    soup = BeautifulSoup(res, \"html.parser\")\n",
    "    wb = openpyxl.Workbook()  # open workboopk\n",
    "    ws = wb.active  # open sheet\n",
    "    result = soup.find(\"table\", class_=\"wikitable\").find_all(\"tr\")[1::1]  # type: ignore\n",
    "    for row, items in enumerate(result):\n",
    "        data = items.find_all([\"th\", \"td\"])\n",
    "        links = items.find_all(\"a\")\n",
    "        for col in range(len(data)):\n",
    "            try:\n",
    "                if col <= len(links):\n",
    "                    ws.cell(row + 1, col + 1, str(data[col].text)).hyperlink = \"https://ar.wikipedia.org/wiki/\" + links[col - 1].text  # type: ignore\n",
    "                else:\n",
    "                    ws.cell(row + 1, col + 1, str(data[col].text))\n",
    "            except IndexError:\n",
    "                pass\n",
    "    wb.save(path)\n",
    "write_to_excel(url=URL, path=PATH)\n"
   ]
  },
  {
   "cell_type": "code",
   "execution_count": null,
   "metadata": {},
   "outputs": [],
   "source": []
  }
 ],
 "metadata": {
  "interpreter": {
   "hash": "37e64d0ade149a8f66df3ede8a3a74af18f7e3520f3779fee4b4aabc9277580e"
  },
  "kernelspec": {
   "display_name": "Python 3.8.8 ('env': venv)",
   "language": "python",
   "name": "python3"
  },
  "language_info": {
   "codemirror_mode": {
    "name": "ipython",
    "version": 3
   },
   "file_extension": ".py",
   "mimetype": "text/x-python",
   "name": "python",
   "nbconvert_exporter": "python",
   "pygments_lexer": "ipython3",
   "version": "3.8.8"
  }
 },
 "nbformat": 4,
 "nbformat_minor": 4
}
